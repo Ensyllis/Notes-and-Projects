{
  "nbformat": 4,
  "nbformat_minor": 0,
  "metadata": {
    "colab": {
      "provenance": [],
      "authorship_tag": "ABX9TyOXdd61htOSx+5IvoDZ9t8R",
      "include_colab_link": true
    },
    "kernelspec": {
      "name": "python3",
      "display_name": "Python 3"
    },
    "language_info": {
      "name": "python"
    }
  },
  "cells": [
    {
      "cell_type": "markdown",
      "metadata": {
        "id": "view-in-github",
        "colab_type": "text"
      },
      "source": [
        "<a href=\"https://colab.research.google.com/github/Ensyllis/Notes-and-Projects/blob/main/Value_of_Coporate_Bonds_and_Equity.ipynb\" target=\"_parent\"><img src=\"https://colab.research.google.com/assets/colab-badge.svg\" alt=\"Open In Colab\"/></a>"
      ]
    },
    {
      "cell_type": "code",
      "execution_count": null,
      "metadata": {
        "id": "4y8QEIyj6DE1"
      },
      "outputs": [],
      "source": [
        "#bond value - bond value assuming no chance to default - value of put option on assets"
      ]
    },
    {
      "cell_type": "code",
      "source": [
        "#Black Scholes Pricing Model\n",
        "\n",
        "import numpy as np\n",
        "from scipy.stats import norm\n",
        "\n",
        "N = norm.cdf\n",
        "\n",
        "def BS_CALL(S, K, T, r, sigma):\n",
        "    d1 = (np.log(S/K) + (r + sigma**2/2)*T) / (sigma*np.sqrt(T))\n",
        "    d2 = d1 - sigma * np.sqrt(T)\n",
        "    return S * N(d1) - K * np.exp(-r*T)* N(d2)\n",
        "\n",
        "def BS_PUT(S, K, T, r, sigma):\n",
        "    d1 = (np.log(S/K) + (r + sigma**2/2)*T) / (sigma*np.sqrt(T))\n",
        "    d2 = d1 - sigma* np.sqrt(T)\n",
        "    return K*np.exp(-r*T)*N(-d2) - S*N(-d1)\n"
      ],
      "metadata": {
        "id": "29Gnswvw7FvK"
      },
      "execution_count": null,
      "outputs": []
    },
    {
      "cell_type": "code",
      "source": [
        "Put = BS_PUT(30,50,1,0.1,0.6)\n",
        "Put"
      ],
      "metadata": {
        "colab": {
          "base_uri": "https://localhost:8080/"
        },
        "id": "m4n6jaSH6JwE",
        "outputId": "46bed76b-cec7-4161-fba5-63d5fdbe7867"
      },
      "execution_count": null,
      "outputs": [
        {
          "output_type": "execute_result",
          "data": {
            "text/plain": [
              "18.40213226127371"
            ]
          },
          "metadata": {},
          "execution_count": 5
        }
      ]
    },
    {
      "cell_type": "code",
      "source": [
        "Put = BS_CALL(80,69,8/253,0.01,0.8)\n",
        "Put"
      ],
      "metadata": {
        "colab": {
          "base_uri": "https://localhost:8080/"
        },
        "id": "lU7YVul7-G5I",
        "outputId": "0b171ef7-6a3b-4709-c7fb-85612ed92f9a"
      },
      "execution_count": null,
      "outputs": [
        {
          "output_type": "execute_result",
          "data": {
            "text/plain": [
              "11.832697341783998"
            ]
          },
          "metadata": {},
          "execution_count": 12
        }
      ]
    },
    {
      "cell_type": "code",
      "source": [
        "#Bond Valuation Assumign no Chance of Default\n",
        "def B_Value(B,RF):\n",
        "  return B/(1+RF)"
      ],
      "metadata": {
        "id": "qHi_-a088TTY"
      },
      "execution_count": null,
      "outputs": []
    },
    {
      "cell_type": "code",
      "source": [
        "B_ValueNoRisk = B_Value(50,0.1)"
      ],
      "metadata": {
        "id": "5NGA2Rnj8i40"
      },
      "execution_count": null,
      "outputs": []
    },
    {
      "cell_type": "code",
      "source": [
        "Bond_Value = B_ValueNoRisk - Put\n",
        "print(Bond_Value)"
      ],
      "metadata": {
        "colab": {
          "base_uri": "https://localhost:8080/"
        },
        "id": "vCvcfYNL8qis",
        "outputId": "a243ef6e-9faa-4b4a-cc2f-4492e5c8a2ec"
      },
      "execution_count": null,
      "outputs": [
        {
          "output_type": "stream",
          "name": "stdout",
          "text": [
            "27.206127547549507\n"
          ]
        }
      ]
    },
    {
      "cell_type": "code",
      "source": [
        "#This code below Lets you value bonds hat pay over N number of Years\n",
        "#We begin by valuing the Last year and begin working back from there\n",
        "#Note: There is probably a better way to loop this \n",
        "#S = Current Price, K = Strike, T = Time, r = Risk-Free Rate, sigma = Standard Deviation\n",
        "\n",
        "\n",
        "def B_Value3(B,RF):\n",
        "  return B/(1+RF)\n",
        "\n",
        "N = norm.cdf\n",
        "\n",
        "def BS_PUT3(S, K, T, r, sigma):\n",
        "    d1 = (np.log(S/K) + (r + sigma**2/2)*T) / (sigma*np.sqrt(T))\n",
        "    d2 = d1 - sigma* np.sqrt(T)\n",
        "    return K*np.exp(-r*T)*N(-d2) - S*N(-d1)\n",
        "\n",
        "BSPUT3 = BS_PUT3(30,50,1,0.1,0.6)\n",
        "\n",
        "def BS_PUT2(S, K, T, r, sigma):\n",
        "    d1 = (np.log(S/K) + (r + sigma**2/2)*T) / (sigma*np.sqrt(T))\n",
        "    d2 = d1 - sigma* np.sqrt(T)\n",
        "    return K*np.exp(-r*T)*N(-d2) - S*N(-d1)\n",
        "\n",
        "BSPUT2 = BS_PUT2(30, BSPUT3, 1, 0.1, 0.6)\n",
        "\n",
        "def BS_PUT1(S, K, T, r, sigma):\n",
        "    d1 = (np.log(S/K) + (r + sigma**2/2)*T) / (sigma*np.sqrt(T))\n",
        "    d2 = d1 - sigma* np.sqrt(T)\n",
        "    return K*np.exp(-r*T)*N(-d2) - S*N(-d1)\n",
        "\n",
        "BSPUT1 = BS_PUT1(30, BSPUT2, 1, 0.1, 0.6)\n",
        "\n",
        "BValueNoRisk = B_Value3(50,0.1)\n",
        "\n",
        "Bond_Value = BValueNoRisk - BSPUT1\n",
        "print(Bond_Value)\n"
      ],
      "metadata": {
        "colab": {
          "base_uri": "https://localhost:8080/"
        },
        "id": "ssWy73V19Vbd",
        "outputId": "e58d971c-74ae-476d-e2a5-fcbc683cde17"
      },
      "execution_count": null,
      "outputs": [
        {
          "output_type": "stream",
          "name": "stdout",
          "text": [
            "45.45454544997218\n"
          ]
        }
      ]
    },
    {
      "cell_type": "code",
      "source": [
        "#Valuing Bond Equity\n",
        "#Formula: Value of option to default = Value of call options on Assets + PV of debt-free risk-free interest rate - Value of Assets\n",
        "#Value of Call Options = Value of Assets - Value of Debt\n",
        "#Value of Call Options = Equity\n",
        "import numpy as np\n",
        "from scipy.stats import norm\n",
        "\n",
        "\n",
        "N = norm.cdf\n",
        "\n",
        "def BS_PUT(S, K, T, r, sigma):\n",
        "    d1 = (np.log(S/K) + (r + sigma**2/2)*T) / (sigma*np.sqrt(T))\n",
        "    d2 = d1 - sigma* np.sqrt(T)\n",
        "    return K*np.exp(-r*T)*N(-d2) - S*N(-d1)\n",
        "\n",
        "def B_Value(B,RF):\n",
        "  return B/(1+RF)\n",
        "\n",
        "Asset_Value = int(input(\"Value of Assets: \"))\n",
        "Debt_Value = B_Value(50,0.1) - BS_PUT(30,50,1,0.1,0.6)\n",
        "\n",
        "Equity_Value = Asset_Value - Debt_Value \n",
        "print(Equity_Value)"
      ],
      "metadata": {
        "colab": {
          "base_uri": "https://localhost:8080/"
        },
        "id": "udzIe_xZGMKm",
        "outputId": "8c735f86-5c06-444a-eb87-5aa772c7ab39"
      },
      "execution_count": null,
      "outputs": [
        {
          "output_type": "stream",
          "name": "stdout",
          "text": [
            "Value of Assets: 30\n",
            "2.947586806728257\n"
          ]
        }
      ]
    },
    {
      "cell_type": "code",
      "source": [
        "#Bayesian Model of Defaults\n"
      ],
      "metadata": {
        "id": "e6MZN-A_xUuP"
      },
      "execution_count": null,
      "outputs": []
    }
  ]
}