{
  "nbformat": 4,
  "nbformat_minor": 0,
  "metadata": {
    "colab": {
      "provenance": [],
      "authorship_tag": "ABX9TyNrcRiAFwJ5pRQQ/jiHOPEI",
      "include_colab_link": true
    },
    "kernelspec": {
      "name": "python3",
      "display_name": "Python 3"
    },
    "language_info": {
      "name": "python"
    }
  },
  "cells": [
    {
      "cell_type": "markdown",
      "metadata": {
        "id": "view-in-github",
        "colab_type": "text"
      },
      "source": [
        "<a href=\"https://colab.research.google.com/github/Ensyllis/Notes-and-Projects/blob/main/Bogosort_sorting_Algorithm.ipynb\" target=\"_parent\"><img src=\"https://colab.research.google.com/assets/colab-badge.svg\" alt=\"Open In Colab\"/></a>"
      ]
    },
    {
      "cell_type": "code",
      "execution_count": 1,
      "metadata": {
        "colab": {
          "base_uri": "https://localhost:8080/"
        },
        "id": "PZRDaoutSLvh",
        "outputId": "34561646-660e-4f13-bedb-aa3110e8af1e"
      },
      "outputs": [
        {
          "output_type": "stream",
          "name": "stdout",
          "text": [
            "7\n"
          ]
        }
      ],
      "source": [
        "array = [1,2,3,4,5,6,7,6,4,5,3,2,3,4]\n",
        "biggest = 0\n",
        "for i in range(len(array)):\n",
        "  if array[i] > biggest:\n",
        "    biggest = array[i]\n",
        "\n",
        "print(biggest)\n"
      ]
    }
  ]
}