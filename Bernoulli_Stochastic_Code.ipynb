{
  "nbformat": 4,
  "nbformat_minor": 0,
  "metadata": {
    "colab": {
      "provenance": [],
      "authorship_tag": "ABX9TyOXughF+2yC4++bhZFtGf8Z",
      "include_colab_link": true
    },
    "kernelspec": {
      "name": "python3",
      "display_name": "Python 3"
    },
    "language_info": {
      "name": "python"
    }
  },
  "cells": [
    {
      "cell_type": "markdown",
      "metadata": {
        "id": "view-in-github",
        "colab_type": "text"
      },
      "source": [
        "<a href=\"https://colab.research.google.com/github/Ensyllis/Notes-and-Projects/blob/main/Bernoulli_Stochastic_Code.ipynb\" target=\"_parent\"><img src=\"https://colab.research.google.com/assets/colab-badge.svg\" alt=\"Open In Colab\"/></a>"
      ]
    },
    {
      "cell_type": "markdown",
      "source": [
        "Notes:\n",
        "- Stochastic Code\n",
        "  - When you take a process that will branch out in time, that's known as stochastic.\n",
        "  - To model stochastic processing using python code we begin with the introductory stochastic process known as Bernoulli\n",
        "      - P(x) = px(1-p)1-x\n",
        "      - P(x) = 0"
      ],
      "metadata": {
        "id": "b4lURUWWLPbW"
      }
    },
    {
      "cell_type": "code",
      "source": [
        "#Bernoulli Probability Mass Function\n",
        "def pmf(x,p):\n",
        "    f = p**x*(1-p)**(1-x)\n",
        "    return f\n",
        "\n",
        "# expected value of x\n",
        "def mean(p):\n",
        "    return p\n",
        "\n",
        "#variance of x\n",
        "def var(p):\n",
        "    return p*(1-p)\n",
        "#standard deviation is root of variance\n",
        "def std(p):\n",
        "    return var(p)**(1/2)\n",
        "\n",
        "print(mean(0.7))\n",
        "print(pmf(1,0.7))\n",
        "print(var(0.7))\n",
        "print(std(0.7))"
      ],
      "metadata": {
        "colab": {
          "base_uri": "https://localhost:8080/"
        },
        "id": "4jsl6DIqLPGF",
        "outputId": "0425ee0d-ee82-4075-dfea-1211ef87fff5"
      },
      "execution_count": null,
      "outputs": [
        {
          "output_type": "stream",
          "name": "stdout",
          "text": [
            "0.7\n",
            "0.7\n",
            "0.21000000000000002\n",
            "0.45825756949558405\n"
          ]
        }
      ]
    },
    {
      "cell_type": "markdown",
      "source": [
        "- Code Explanation\n",
        "  - The x is the result of either 1 or 0. \n",
        "  - Let P = probability of x which gives us the pmf of the x value\n",
        "\n",
        "- Time to Generate Random Variables!\n",
        "  - Let P = 1, p = E[p], Q = 0, q = E[q]\n",
        "  - Choose between q or p, with the variability of p or q. "
      ],
      "metadata": {
        "id": "HoZ8QDMTNMTV"
      }
    },
    {
      "cell_type": "code",
      "execution_count": null,
      "metadata": {
        "id": "pmzy_5lUKsYK"
      },
      "outputs": [],
      "source": [
        "import numpy as np"
      ]
    },
    {
      "cell_type": "code",
      "source": [
        "#size is a parameter that how many number generates\n",
        "def rvs(p,size):\n",
        "    rvs = np.array([])\n",
        "    for i in range(0,size):\n",
        "        if np.random.rand() <= p:\n",
        "            a=1\n",
        "            rvs = np.append(rvs,a)\n",
        "        else:\n",
        "            a=0\n",
        "            rvs = np.append(rvs,a)\n",
        "    return rvs"
      ],
      "metadata": {
        "id": "Ey63B9hRWjts"
      },
      "execution_count": null,
      "outputs": []
    },
    {
      "cell_type": "code",
      "source": [
        "#created a bernoulli class\n",
        " \n",
        "class bernoulli():\n",
        "    def pmf(x,p):\n",
        "        f = p**x*(1-p)**(1-x)\n",
        "        return f\n",
        "    \n",
        "    def mean(p):\n",
        "        return p\n",
        "    \n",
        "    def var(p):\n",
        "        return p*(1-p)\n",
        "    \n",
        "    def std(p):\n",
        "        return bernoulli.var(p)**(1/2)\n",
        "    \n",
        "    def rvs(p,size=10):\n",
        "        rvs = np.array([])\n",
        "        for i in range(0,size):\n",
        "            if np.random.rand() <= p:\n",
        "                a=1\n",
        "                rvs = np.append(rvs,a)\n",
        "            else:\n",
        "                a=0\n",
        "                rvs = np.append(rvs,a)\n",
        "        return rvs"
      ],
      "metadata": {
        "id": "BZas-F04WsUx"
      },
      "execution_count": null,
      "outputs": []
    },
    {
      "cell_type": "markdown",
      "source": [
        "- Implementing the Code into Real World Applications.\n",
        "  - Using the Class of Bernoulli Models we're capable of generating the possiblities and the expected mean as well.\n",
        "  - For this Example Let's assume that each day, a store measures that for every minutue there is a p = 0.15 chance of a customer entereing in that minute."
      ],
      "metadata": {
        "id": "fbzrvREZY7yM"
      }
    },
    {
      "cell_type": "code",
      "source": [
        "p = 0.15 #Assigning the P - Value\n",
        "print(\"This is the Mean \" + str(bernoulli.mean(p)))\n",
        "print(\"This is the Variance \" + str(bernoulli.var(p)))\n",
        "print(\"This is the Standard Deviation \" + str(bernoulli.std(p)))\n",
        "\n",
        "\n",
        "print(bernoulli.rvs(p,size=60)) "
      ],
      "metadata": {
        "colab": {
          "base_uri": "https://localhost:8080/"
        },
        "id": "ctmpmx_BY7mG",
        "outputId": "73d5ed24-e064-4cab-91ad-3e0fba6d3310"
      },
      "execution_count": null,
      "outputs": [
        {
          "output_type": "stream",
          "name": "stdout",
          "text": [
            "This is the Mean 0.15\n",
            "This is the Variance 0.1275\n",
            "This is the Standard Deviation 0.3570714214271425\n",
            "[0. 1. 1. 0. 0. 0. 0. 0. 0. 0. 0. 0. 1. 0. 0. 0. 1. 0. 0. 0. 1. 0. 0. 0.\n",
            " 0. 0. 0. 0. 0. 0. 1. 0. 0. 0. 0. 0. 0. 0. 0. 1. 0. 0. 0. 0. 0. 0. 0. 0.\n",
            " 0. 0. 0. 0. 0. 0. 0. 0. 0. 0. 0. 0.]\n"
          ]
        }
      ]
    }
  ]
}