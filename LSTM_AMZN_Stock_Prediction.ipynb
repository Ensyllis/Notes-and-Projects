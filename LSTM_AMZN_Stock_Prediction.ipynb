{
  "nbformat": 4,
  "nbformat_minor": 0,
  "metadata": {
    "colab": {
      "provenance": [],
      "authorship_tag": "ABX9TyMcz8f4zoJxyEPrzR8giNhg",
      "include_colab_link": true
    },
    "kernelspec": {
      "name": "python3",
      "display_name": "Python 3"
    },
    "language_info": {
      "name": "python"
    }
  },
  "cells": [
    {
      "cell_type": "markdown",
      "metadata": {
        "id": "view-in-github",
        "colab_type": "text"
      },
      "source": [
        "<a href=\"https://colab.research.google.com/github/Ensyllis/Notes-and-Projects/blob/main/LSTM_AMZN_Stock_Prediction.ipynb\" target=\"_parent\"><img src=\"https://colab.research.google.com/assets/colab-badge.svg\" alt=\"Open In Colab\"/></a>"
      ]
    },
    {
      "cell_type": "code",
      "source": [
        "#This one is a bit more complicated.\n",
        "#We begin with AMZN as the basis of our stock analysis\n",
        "#We get the Adjusted Close of each day from Yahoo Finance\n",
        "#We scale this as training data using sklearning to optimize the run time of the data\n",
        "#We're using Long-Short-Term Memory as the ML process.\n",
        "#We parse the data with 60% being the training data and the 40% being the testing set.\n",
        "#We feed the scaled training data into the LSTM model letting it learn the movements of the stock\n",
        "#We compare the predicted data with real data in the graph \n",
        "#We can see how well the ML predicts the movements of stocks"
      ],
      "metadata": {
        "id": "bu66iGtBGW_m"
      },
      "execution_count": 1,
      "outputs": []
    },
    {
      "cell_type": "code",
      "source": [
        "pip install yfinance"
      ],
      "metadata": {
        "id": "mkVP4vppWlbz",
        "colab": {
          "base_uri": "https://localhost:8080/"
        },
        "outputId": "8de7d325-cfff-470a-a3a1-4d56642c4b0b"
      },
      "execution_count": 2,
      "outputs": [
        {
          "output_type": "stream",
          "name": "stdout",
          "text": [
            "Looking in indexes: https://pypi.org/simple, https://us-python.pkg.dev/colab-wheels/public/simple/\n",
            "Collecting yfinance\n",
            "  Downloading yfinance-0.1.77-py2.py3-none-any.whl (28 kB)\n",
            "Collecting requests>=2.26\n",
            "  Downloading requests-2.28.1-py3-none-any.whl (62 kB)\n",
            "\u001b[K     |████████████████████████████████| 62 kB 1.5 MB/s \n",
            "\u001b[?25hRequirement already satisfied: pandas>=0.24.0 in /usr/local/lib/python3.7/dist-packages (from yfinance) (1.3.5)\n",
            "Requirement already satisfied: lxml>=4.5.1 in /usr/local/lib/python3.7/dist-packages (from yfinance) (4.9.1)\n",
            "Requirement already satisfied: numpy>=1.15 in /usr/local/lib/python3.7/dist-packages (from yfinance) (1.21.6)\n",
            "Requirement already satisfied: multitasking>=0.0.7 in /usr/local/lib/python3.7/dist-packages (from yfinance) (0.0.11)\n",
            "Requirement already satisfied: appdirs>=1.4.4 in /usr/local/lib/python3.7/dist-packages (from yfinance) (1.4.4)\n",
            "Requirement already satisfied: pytz>=2017.3 in /usr/local/lib/python3.7/dist-packages (from pandas>=0.24.0->yfinance) (2022.4)\n",
            "Requirement already satisfied: python-dateutil>=2.7.3 in /usr/local/lib/python3.7/dist-packages (from pandas>=0.24.0->yfinance) (2.8.2)\n",
            "Requirement already satisfied: six>=1.5 in /usr/local/lib/python3.7/dist-packages (from python-dateutil>=2.7.3->pandas>=0.24.0->yfinance) (1.15.0)\n",
            "Requirement already satisfied: certifi>=2017.4.17 in /usr/local/lib/python3.7/dist-packages (from requests>=2.26->yfinance) (2022.9.24)\n",
            "Requirement already satisfied: urllib3<1.27,>=1.21.1 in /usr/local/lib/python3.7/dist-packages (from requests>=2.26->yfinance) (1.24.3)\n",
            "Requirement already satisfied: idna<4,>=2.5 in /usr/local/lib/python3.7/dist-packages (from requests>=2.26->yfinance) (2.10)\n",
            "Requirement already satisfied: charset-normalizer<3,>=2 in /usr/local/lib/python3.7/dist-packages (from requests>=2.26->yfinance) (2.1.1)\n",
            "Installing collected packages: requests, yfinance\n",
            "  Attempting uninstall: requests\n",
            "    Found existing installation: requests 2.23.0\n",
            "    Uninstalling requests-2.23.0:\n",
            "      Successfully uninstalled requests-2.23.0\n",
            "Successfully installed requests-2.28.1 yfinance-0.1.77\n"
          ]
        }
      ]
    },
    {
      "cell_type": "code",
      "source": [
        "import datetime as dt\n",
        "import yfinance as yf"
      ],
      "metadata": {
        "id": "TkJcf3ZWW0IL"
      },
      "execution_count": 3,
      "outputs": []
    },
    {
      "cell_type": "code",
      "source": [
        "import math\n",
        "import pandas_datareader as web\n",
        "import numpy as np\n",
        "import pandas as pd \n",
        "from sklearn.preprocessing import MinMaxScaler\n",
        "from keras.models import Sequential\n",
        "from keras.layers import Dense, LSTM\n",
        "import matplotlib.pyplot as plt\n",
        "plt.style.use('fivethirtyeight')\n"
      ],
      "metadata": {
        "id": "PTbGFt97C4bj"
      },
      "execution_count": 4,
      "outputs": []
    },
    {
      "cell_type": "code",
      "source": [
        "tickers = ['AMZN']\n",
        "start = dt.datetime(2012,1,1)\n",
        "end = dt.datetime.now()\n",
        "\n",
        "df=yf.download(tickers, start, end)\n",
        "df\n"
      ],
      "metadata": {
        "id": "ssZAQ5DTWgD5",
        "colab": {
          "base_uri": "https://localhost:8080/",
          "height": 472
        },
        "outputId": "9957b9c1-4826-4427-fbba-4dfd817719ca"
      },
      "execution_count": 5,
      "outputs": [
        {
          "output_type": "stream",
          "name": "stdout",
          "text": [
            "\r[*********************100%***********************]  1 of 1 completed\n"
          ]
        },
        {
          "output_type": "execute_result",
          "data": {
            "text/plain": [
              "                                 Open        High         Low       Close  \\\n",
              "Date                                                                        \n",
              "2012-01-03 00:00:00-05:00    8.794500    8.974000    8.777500    8.951500   \n",
              "2012-01-04 00:00:00-05:00    8.960500    9.025000    8.803500    8.875500   \n",
              "2012-01-05 00:00:00-05:00    8.797000    8.912500    8.702500    8.880500   \n",
              "2012-01-06 00:00:00-05:00    8.903500    9.232500    8.875000    9.130500   \n",
              "2012-01-09 00:00:00-05:00    9.138000    9.218500    8.850000    8.928000   \n",
              "...                               ...         ...         ...         ...   \n",
              "2022-10-10 00:00:00-04:00  115.099998  116.250000  112.430000  113.669998   \n",
              "2022-10-11 00:00:00-04:00  112.709999  115.480003  110.389999  112.209999   \n",
              "2022-10-12 00:00:00-04:00  112.489998  113.830002  111.400002  112.900002   \n",
              "2022-10-13 00:00:00-04:00  107.879997  113.440002  105.349998  112.529999   \n",
              "2022-10-14 00:00:00-04:00  114.099998  114.959999  106.599998  106.900002   \n",
              "\n",
              "                            Adj Close     Volume  \n",
              "Date                                              \n",
              "2012-01-03 00:00:00-05:00    8.951500  102216000  \n",
              "2012-01-04 00:00:00-05:00    8.875500   84104000  \n",
              "2012-01-05 00:00:00-05:00    8.880500   76182000  \n",
              "2012-01-06 00:00:00-05:00    9.130500  140168000  \n",
              "2012-01-09 00:00:00-05:00    8.928000  101138000  \n",
              "...                               ...        ...  \n",
              "2022-10-10 00:00:00-04:00  113.669998   42339700  \n",
              "2022-10-11 00:00:00-04:00  112.209999   56432200  \n",
              "2022-10-12 00:00:00-04:00  112.900002   45728700  \n",
              "2022-10-13 00:00:00-04:00  112.529999   86868100  \n",
              "2022-10-14 00:00:00-04:00  106.900002   67651200  \n",
              "\n",
              "[2715 rows x 6 columns]"
            ],
            "text/html": [
              "\n",
              "  <div id=\"df-a04e63cf-abca-42d8-82cf-abccb41486a9\">\n",
              "    <div class=\"colab-df-container\">\n",
              "      <div>\n",
              "<style scoped>\n",
              "    .dataframe tbody tr th:only-of-type {\n",
              "        vertical-align: middle;\n",
              "    }\n",
              "\n",
              "    .dataframe tbody tr th {\n",
              "        vertical-align: top;\n",
              "    }\n",
              "\n",
              "    .dataframe thead th {\n",
              "        text-align: right;\n",
              "    }\n",
              "</style>\n",
              "<table border=\"1\" class=\"dataframe\">\n",
              "  <thead>\n",
              "    <tr style=\"text-align: right;\">\n",
              "      <th></th>\n",
              "      <th>Open</th>\n",
              "      <th>High</th>\n",
              "      <th>Low</th>\n",
              "      <th>Close</th>\n",
              "      <th>Adj Close</th>\n",
              "      <th>Volume</th>\n",
              "    </tr>\n",
              "    <tr>\n",
              "      <th>Date</th>\n",
              "      <th></th>\n",
              "      <th></th>\n",
              "      <th></th>\n",
              "      <th></th>\n",
              "      <th></th>\n",
              "      <th></th>\n",
              "    </tr>\n",
              "  </thead>\n",
              "  <tbody>\n",
              "    <tr>\n",
              "      <th>2012-01-03 00:00:00-05:00</th>\n",
              "      <td>8.794500</td>\n",
              "      <td>8.974000</td>\n",
              "      <td>8.777500</td>\n",
              "      <td>8.951500</td>\n",
              "      <td>8.951500</td>\n",
              "      <td>102216000</td>\n",
              "    </tr>\n",
              "    <tr>\n",
              "      <th>2012-01-04 00:00:00-05:00</th>\n",
              "      <td>8.960500</td>\n",
              "      <td>9.025000</td>\n",
              "      <td>8.803500</td>\n",
              "      <td>8.875500</td>\n",
              "      <td>8.875500</td>\n",
              "      <td>84104000</td>\n",
              "    </tr>\n",
              "    <tr>\n",
              "      <th>2012-01-05 00:00:00-05:00</th>\n",
              "      <td>8.797000</td>\n",
              "      <td>8.912500</td>\n",
              "      <td>8.702500</td>\n",
              "      <td>8.880500</td>\n",
              "      <td>8.880500</td>\n",
              "      <td>76182000</td>\n",
              "    </tr>\n",
              "    <tr>\n",
              "      <th>2012-01-06 00:00:00-05:00</th>\n",
              "      <td>8.903500</td>\n",
              "      <td>9.232500</td>\n",
              "      <td>8.875000</td>\n",
              "      <td>9.130500</td>\n",
              "      <td>9.130500</td>\n",
              "      <td>140168000</td>\n",
              "    </tr>\n",
              "    <tr>\n",
              "      <th>2012-01-09 00:00:00-05:00</th>\n",
              "      <td>9.138000</td>\n",
              "      <td>9.218500</td>\n",
              "      <td>8.850000</td>\n",
              "      <td>8.928000</td>\n",
              "      <td>8.928000</td>\n",
              "      <td>101138000</td>\n",
              "    </tr>\n",
              "    <tr>\n",
              "      <th>...</th>\n",
              "      <td>...</td>\n",
              "      <td>...</td>\n",
              "      <td>...</td>\n",
              "      <td>...</td>\n",
              "      <td>...</td>\n",
              "      <td>...</td>\n",
              "    </tr>\n",
              "    <tr>\n",
              "      <th>2022-10-10 00:00:00-04:00</th>\n",
              "      <td>115.099998</td>\n",
              "      <td>116.250000</td>\n",
              "      <td>112.430000</td>\n",
              "      <td>113.669998</td>\n",
              "      <td>113.669998</td>\n",
              "      <td>42339700</td>\n",
              "    </tr>\n",
              "    <tr>\n",
              "      <th>2022-10-11 00:00:00-04:00</th>\n",
              "      <td>112.709999</td>\n",
              "      <td>115.480003</td>\n",
              "      <td>110.389999</td>\n",
              "      <td>112.209999</td>\n",
              "      <td>112.209999</td>\n",
              "      <td>56432200</td>\n",
              "    </tr>\n",
              "    <tr>\n",
              "      <th>2022-10-12 00:00:00-04:00</th>\n",
              "      <td>112.489998</td>\n",
              "      <td>113.830002</td>\n",
              "      <td>111.400002</td>\n",
              "      <td>112.900002</td>\n",
              "      <td>112.900002</td>\n",
              "      <td>45728700</td>\n",
              "    </tr>\n",
              "    <tr>\n",
              "      <th>2022-10-13 00:00:00-04:00</th>\n",
              "      <td>107.879997</td>\n",
              "      <td>113.440002</td>\n",
              "      <td>105.349998</td>\n",
              "      <td>112.529999</td>\n",
              "      <td>112.529999</td>\n",
              "      <td>86868100</td>\n",
              "    </tr>\n",
              "    <tr>\n",
              "      <th>2022-10-14 00:00:00-04:00</th>\n",
              "      <td>114.099998</td>\n",
              "      <td>114.959999</td>\n",
              "      <td>106.599998</td>\n",
              "      <td>106.900002</td>\n",
              "      <td>106.900002</td>\n",
              "      <td>67651200</td>\n",
              "    </tr>\n",
              "  </tbody>\n",
              "</table>\n",
              "<p>2715 rows × 6 columns</p>\n",
              "</div>\n",
              "      <button class=\"colab-df-convert\" onclick=\"convertToInteractive('df-a04e63cf-abca-42d8-82cf-abccb41486a9')\"\n",
              "              title=\"Convert this dataframe to an interactive table.\"\n",
              "              style=\"display:none;\">\n",
              "        \n",
              "  <svg xmlns=\"http://www.w3.org/2000/svg\" height=\"24px\"viewBox=\"0 0 24 24\"\n",
              "       width=\"24px\">\n",
              "    <path d=\"M0 0h24v24H0V0z\" fill=\"none\"/>\n",
              "    <path d=\"M18.56 5.44l.94 2.06.94-2.06 2.06-.94-2.06-.94-.94-2.06-.94 2.06-2.06.94zm-11 1L8.5 8.5l.94-2.06 2.06-.94-2.06-.94L8.5 2.5l-.94 2.06-2.06.94zm10 10l.94 2.06.94-2.06 2.06-.94-2.06-.94-.94-2.06-.94 2.06-2.06.94z\"/><path d=\"M17.41 7.96l-1.37-1.37c-.4-.4-.92-.59-1.43-.59-.52 0-1.04.2-1.43.59L10.3 9.45l-7.72 7.72c-.78.78-.78 2.05 0 2.83L4 21.41c.39.39.9.59 1.41.59.51 0 1.02-.2 1.41-.59l7.78-7.78 2.81-2.81c.8-.78.8-2.07 0-2.86zM5.41 20L4 18.59l7.72-7.72 1.47 1.35L5.41 20z\"/>\n",
              "  </svg>\n",
              "      </button>\n",
              "      \n",
              "  <style>\n",
              "    .colab-df-container {\n",
              "      display:flex;\n",
              "      flex-wrap:wrap;\n",
              "      gap: 12px;\n",
              "    }\n",
              "\n",
              "    .colab-df-convert {\n",
              "      background-color: #E8F0FE;\n",
              "      border: none;\n",
              "      border-radius: 50%;\n",
              "      cursor: pointer;\n",
              "      display: none;\n",
              "      fill: #1967D2;\n",
              "      height: 32px;\n",
              "      padding: 0 0 0 0;\n",
              "      width: 32px;\n",
              "    }\n",
              "\n",
              "    .colab-df-convert:hover {\n",
              "      background-color: #E2EBFA;\n",
              "      box-shadow: 0px 1px 2px rgba(60, 64, 67, 0.3), 0px 1px 3px 1px rgba(60, 64, 67, 0.15);\n",
              "      fill: #174EA6;\n",
              "    }\n",
              "\n",
              "    [theme=dark] .colab-df-convert {\n",
              "      background-color: #3B4455;\n",
              "      fill: #D2E3FC;\n",
              "    }\n",
              "\n",
              "    [theme=dark] .colab-df-convert:hover {\n",
              "      background-color: #434B5C;\n",
              "      box-shadow: 0px 1px 3px 1px rgba(0, 0, 0, 0.15);\n",
              "      filter: drop-shadow(0px 1px 2px rgba(0, 0, 0, 0.3));\n",
              "      fill: #FFFFFF;\n",
              "    }\n",
              "  </style>\n",
              "\n",
              "      <script>\n",
              "        const buttonEl =\n",
              "          document.querySelector('#df-a04e63cf-abca-42d8-82cf-abccb41486a9 button.colab-df-convert');\n",
              "        buttonEl.style.display =\n",
              "          google.colab.kernel.accessAllowed ? 'block' : 'none';\n",
              "\n",
              "        async function convertToInteractive(key) {\n",
              "          const element = document.querySelector('#df-a04e63cf-abca-42d8-82cf-abccb41486a9');\n",
              "          const dataTable =\n",
              "            await google.colab.kernel.invokeFunction('convertToInteractive',\n",
              "                                                     [key], {});\n",
              "          if (!dataTable) return;\n",
              "\n",
              "          const docLinkHtml = 'Like what you see? Visit the ' +\n",
              "            '<a target=\"_blank\" href=https://colab.research.google.com/notebooks/data_table.ipynb>data table notebook</a>'\n",
              "            + ' to learn more about interactive tables.';\n",
              "          element.innerHTML = '';\n",
              "          dataTable['output_type'] = 'display_data';\n",
              "          await google.colab.output.renderOutput(dataTable, element);\n",
              "          const docLink = document.createElement('div');\n",
              "          docLink.innerHTML = docLinkHtml;\n",
              "          element.appendChild(docLink);\n",
              "        }\n",
              "      </script>\n",
              "    </div>\n",
              "  </div>\n",
              "  "
            ]
          },
          "metadata": {},
          "execution_count": 5
        }
      ]
    },
    {
      "cell_type": "code",
      "source": [
        "plt.figure(figsize=(16,8))\n",
        "plt.title('Close Price History')\n",
        "plt.plot(df['Adj Close'])\n",
        "plt.xlabel('Date', fontsize=18)\n",
        "plt.ylabel(\"Close Price USD ($)\",fontsize=18)\n",
        "plt.show()"
      ],
      "metadata": {
        "colab": {
          "base_uri": "https://localhost:8080/",
          "height": 558
        },
        "id": "B-7R3xDAYBT7",
        "outputId": "a5fb7158-c168-41c6-a295-091b71ea2577"
      },
      "execution_count": 6,
      "outputs": [
        {
          "output_type": "display_data",
          "data": {
            "text/plain": [
              "<Figure size 1152x576 with 1 Axes>"
            ],
            "image/png": "[encoded data removed]"
          },
          "metadata": {}
        }
      ]
    },
    {
      "cell_type": "code",
      "source": [
        "data = df.filter(['Adj Close'])\n",
        "dataset=data.values\n",
        "training_data_len = math.ceil( len(dataset) * .8)\n",
        "\n",
        "training_data_len"
      ],
      "metadata": {
        "colab": {
          "base_uri": "https://localhost:8080/"
        },
        "id": "HI3SlYkFZB_H",
        "outputId": "49ef8224-84cc-48a4-86f9-9bcbe8658bf3"
      },
      "execution_count": 7,
      "outputs": [
        {
          "output_type": "execute_result",
          "data": {
            "text/plain": [
              "2172"
            ]
          },
          "metadata": {},
          "execution_count": 7
        }
      ]
    },
    {
      "cell_type": "code",
      "source": [
        "scaler = MinMaxScaler(feature_range=(0,1))\n",
        "scaled_data = scaler.fit_transform(dataset)\n"
      ],
      "metadata": {
        "id": "AJP03Z2xaC5T"
      },
      "execution_count": 8,
      "outputs": []
    },
    {
      "cell_type": "code",
      "source": [
        "train_data=scaled_data[0:training_data_len , :]\n",
        "x_train = []\n",
        "y_train = []\n",
        "for i in range(60, len(train_data)):\n",
        "  x_train.append(train_data[i-60:i, 0])\n",
        "  y_train.append(train_data[i, 0])\n",
        "  if i<= 60:\n",
        "    print(x_train)\n",
        "    print(y_train)\n",
        "    print()"
      ],
      "metadata": {
        "colab": {
          "base_uri": "https://localhost:8080/"
        },
        "id": "TYY1uYJsbB18",
        "outputId": "623587ca-e770-4525-c8af-1bef5a487b18"
      },
      "execution_count": 9,
      "outputs": [
        {
          "output_type": "stream",
          "name": "stdout",
          "text": [
            "[array([0.00087189, 0.00044438, 0.00047251, 0.00187879, 0.0007397 ,\n",
            "       0.00095908, 0.00083533, 0.        , 0.00070032, 0.0016116 ,\n",
            "       0.00379977, 0.00520886, 0.00421884, 0.00285756, 0.0031135 ,\n",
            "       0.00333851, 0.00489104, 0.00546762, 0.00456197, 0.00520605,\n",
            "       0.00099283, 0.00162847, 0.00330476, 0.00202785, 0.00232318,\n",
            "       0.00268599, 0.00254536, 0.00270287, 0.00440447, 0.0043229 ,\n",
            "       0.00240193, 0.00112502, 0.00184785, 0.00178035, 0.00130784,\n",
            "       0.00083252, 0.00090002, 0.00073127, 0.00221348, 0.00105752,\n",
            "       0.00115596, 0.00094783, 0.00121783, 0.00145128, 0.00220505,\n",
            "       0.00329351, 0.00235973, 0.00209817, 0.00243567, 0.00178035,\n",
            "       0.00239068, 0.00256505, 0.00269724, 0.0046126 , 0.00444384,\n",
            "       0.00463228, 0.0053748 , 0.00757704, 0.00829986, 0.00709609])]\n",
            "[0.008066421706034416]\n",
            "\n"
          ]
        }
      ]
    },
    {
      "cell_type": "code",
      "source": [
        "x_train, y_train = np.array(x_train), np.array(y_train)"
      ],
      "metadata": {
        "id": "L_anVGfRc6dM"
      },
      "execution_count": 10,
      "outputs": []
    },
    {
      "cell_type": "code",
      "source": [
        "x_train = np.reshape(x_train, (x_train.shape[0], x_train.shape[1], 1))\n",
        "x_train.shape\n"
      ],
      "metadata": {
        "colab": {
          "base_uri": "https://localhost:8080/"
        },
        "id": "XmekRMlRdGXf",
        "outputId": "00e814a3-a443-4c5c-fce7-44ab1b25e81d"
      },
      "execution_count": 11,
      "outputs": [
        {
          "output_type": "execute_result",
          "data": {
            "text/plain": [
              "(2112, 60, 1)"
            ]
          },
          "metadata": {},
          "execution_count": 11
        }
      ]
    },
    {
      "cell_type": "code",
      "source": [
        "model = Sequential()\n",
        "model.add(LSTM(50, return_sequences=True, input_shape= (x_train.shape[1], 1)))\n",
        "model.add(LSTM(50, return_sequences= False))\n",
        "model.add(Dense(25))\n",
        "model.add(Dense(1))"
      ],
      "metadata": {
        "id": "8zvApfkQeIoe"
      },
      "execution_count": 12,
      "outputs": []
    },
    {
      "cell_type": "code",
      "source": [
        "model.compile(optimizer='adam', loss='mean_squared_error')\n"
      ],
      "metadata": {
        "id": "0_jcJscDhXuK"
      },
      "execution_count": 13,
      "outputs": []
    },
    {
      "cell_type": "code",
      "source": [
        "model.fit(x_train, y_train, batch_size=1, epochs=1)"
      ],
      "metadata": {
        "colab": {
          "base_uri": "https://localhost:8080/"
        },
        "id": "un8hAwvZh278",
        "outputId": "9a4458b7-600a-4af8-ae01-71b934769b3e"
      },
      "execution_count": 14,
      "outputs": [
        {
          "output_type": "stream",
          "name": "stdout",
          "text": [
            "2112/2112 [==============================] - 78s 34ms/step - loss: 6.8013e-04\n"
          ]
        },
        {
          "output_type": "execute_result",
          "data": {
            "text/plain": [
              "<keras.callbacks.History at 0x7ffacd0dd790>"
            ]
          },
          "metadata": {},
          "execution_count": 14
        }
      ]
    },
    {
      "cell_type": "code",
      "source": [
        "test_data = scaled_data[training_data_len - 60: , :]\n",
        "x_test = []\n",
        "y_test = dataset[training_data_len:, :]\n",
        "for i in range(60, len(test_data)):\n",
        "  x_test.append(test_data[i-60:i, 0])\n",
        "\n",
        "  "
      ],
      "metadata": {
        "id": "Wrg9kOYxiOgV"
      },
      "execution_count": 15,
      "outputs": []
    },
    {
      "cell_type": "code",
      "source": [
        "x_test = np.array(x_test)"
      ],
      "metadata": {
        "id": "pJEI7OMFjA4A"
      },
      "execution_count": 16,
      "outputs": []
    },
    {
      "cell_type": "code",
      "source": [
        "x_test = np.reshape(x_test, (x_test.shape[0],x_test.shape[1], 1 ))\n"
      ],
      "metadata": {
        "id": "eeTlmr5fjKAf"
      },
      "execution_count": 17,
      "outputs": []
    },
    {
      "cell_type": "code",
      "source": [
        "predictions = model.predict(x_test)\n",
        "predictions = scaler.inverse_transform(predictions)\n"
      ],
      "metadata": {
        "id": "89gOUtEyjkFH",
        "colab": {
          "base_uri": "https://localhost:8080/"
        },
        "outputId": "acbba804-1c88-45cc-aab9-62fab9027909"
      },
      "execution_count": 18,
      "outputs": [
        {
          "output_type": "stream",
          "name": "stdout",
          "text": [
            "17/17 [==============================] - 1s 17ms/step\n"
          ]
        }
      ]
    },
    {
      "cell_type": "code",
      "source": [
        "rmse = np.sqrt( np.mean( predictions - y_test)**2 )\n",
        "rmse"
      ],
      "metadata": {
        "colab": {
          "base_uri": "https://localhost:8080/"
        },
        "id": "FflX5KjkkGIp",
        "outputId": "0f0091f9-1fc1-425d-9cd0-bc0d2241067f"
      },
      "execution_count": 19,
      "outputs": [
        {
          "output_type": "execute_result",
          "data": {
            "text/plain": [
              "4.513888757751352"
            ]
          },
          "metadata": {},
          "execution_count": 19
        }
      ]
    },
    {
      "cell_type": "code",
      "source": [
        "train = data[:training_data_len]\n",
        "valid = data[training_data_len:]\n",
        "valid['Predictions'] = predictions\n",
        "plt.figure(figsize=(16,8))\n",
        "plt.title('Model')\n",
        "plt.xlabel('Date', fontsize=18)\n",
        "plt.ylabel('Adj Close', fontsize=18)\n",
        "plt.plot(train['Adj Close'])\n",
        "plt.plot(valid[['Adj Close', 'Predictions']])\n",
        "plt.legend(['Train', 'Val', 'Predictions'], loc='lower right')\n",
        "plt.show()"
      ],
      "metadata": {
        "colab": {
          "base_uri": "https://localhost:8080/",
          "height": 662
        },
        "id": "RFPRMIjck7yF",
        "outputId": "85a995d0-9159-411a-eb44-7bba7495d308"
      },
      "execution_count": 20,
      "outputs": [
        {
          "output_type": "stream",
          "name": "stderr",
          "text": [
            "/usr/local/lib/python3.7/dist-packages/ipykernel_launcher.py:3: SettingWithCopyWarning: \n",
            "A value is trying to be set on a copy of a slice from a DataFrame.\n",
            "Try using .loc[row_indexer,col_indexer] = value instead\n",
            "\n",
            "See the caveats in the documentation: https://pandas.pydata.org/pandas-docs/stable/user_guide/indexing.html#returning-a-view-versus-a-copy\n",
            "  This is separate from the ipykernel package so we can avoid doing imports until\n"
          ]
        },
        {
          "output_type": "display_data",
          "data": {
            "text/plain": [
              "<Figure size 1152x576 with 1 Axes>"
            ],
            "image/png": "[encoded data removed]"
          },
          "metadata": {}
        }
      ]
    },
    {
      "cell_type": "code",
      "source": [
        "\n",
        "valid"
      ],
      "metadata": {
        "id": "5emrqwzOmSTF",
        "colab": {
          "base_uri": "https://localhost:8080/",
          "height": 455
        },
        "outputId": "538fd9ce-c347-4273-e397-dc48b761f26b"
      },
      "execution_count": 21,
      "outputs": [
        {
          "output_type": "execute_result",
          "data": {
            "text/plain": [
              "                            Adj Close  Predictions\n",
              "Date                                              \n",
              "2020-08-20 00:00:00-04:00  164.868500   164.087708\n",
              "2020-08-21 00:00:00-04:00  164.235992   165.218903\n",
              "2020-08-24 00:00:00-04:00  165.373001   166.157104\n",
              "2020-08-25 00:00:00-04:00  167.324493   167.032410\n",
              "2020-08-26 00:00:00-04:00  172.092499   168.010498\n",
              "...                               ...          ...\n",
              "2022-10-10 00:00:00-04:00  113.669998   122.141891\n",
              "2022-10-11 00:00:00-04:00  112.209999   121.629013\n",
              "2022-10-12 00:00:00-04:00  112.900002   120.735298\n",
              "2022-10-13 00:00:00-04:00  112.529999   119.854759\n",
              "2022-10-14 00:00:00-04:00  106.900002   119.038414\n",
              "\n",
              "[543 rows x 2 columns]"
            ],
            "text/html": [
              "\n",
              "  <div id=\"df-f5f92186-bb71-432e-a3c3-608ce6e39985\">\n",
              "    <div class=\"colab-df-container\">\n",
              "      <div>\n",
              "<style scoped>\n",
              "    .dataframe tbody tr th:only-of-type {\n",
              "        vertical-align: middle;\n",
              "    }\n",
              "\n",
              "    .dataframe tbody tr th {\n",
              "        vertical-align: top;\n",
              "    }\n",
              "\n",
              "    .dataframe thead th {\n",
              "        text-align: right;\n",
              "    }\n",
              "</style>\n",
              "<table border=\"1\" class=\"dataframe\">\n",
              "  <thead>\n",
              "    <tr style=\"text-align: right;\">\n",
              "      <th></th>\n",
              "      <th>Adj Close</th>\n",
              "      <th>Predictions</th>\n",
              "    </tr>\n",
              "    <tr>\n",
              "      <th>Date</th>\n",
              "      <th></th>\n",
              "      <th></th>\n",
              "    </tr>\n",
              "  </thead>\n",
              "  <tbody>\n",
              "    <tr>\n",
              "      <th>2020-08-20 00:00:00-04:00</th>\n",
              "      <td>164.868500</td>\n",
              "      <td>164.087708</td>\n",
              "    </tr>\n",
              "    <tr>\n",
              "      <th>2020-08-21 00:00:00-04:00</th>\n",
              "      <td>164.235992</td>\n",
              "      <td>165.218903</td>\n",
              "    </tr>\n",
              "    <tr>\n",
              "      <th>2020-08-24 00:00:00-04:00</th>\n",
              "      <td>165.373001</td>\n",
              "      <td>166.157104</td>\n",
              "    </tr>\n",
              "    <tr>\n",
              "      <th>2020-08-25 00:00:00-04:00</th>\n",
              "      <td>167.324493</td>\n",
              "      <td>167.032410</td>\n",
              "    </tr>\n",
              "    <tr>\n",
              "      <th>2020-08-26 00:00:00-04:00</th>\n",
              "      <td>172.092499</td>\n",
              "      <td>168.010498</td>\n",
              "    </tr>\n",
              "    <tr>\n",
              "      <th>...</th>\n",
              "      <td>...</td>\n",
              "      <td>...</td>\n",
              "    </tr>\n",
              "    <tr>\n",
              "      <th>2022-10-10 00:00:00-04:00</th>\n",
              "      <td>113.669998</td>\n",
              "      <td>122.141891</td>\n",
              "    </tr>\n",
              "    <tr>\n",
              "      <th>2022-10-11 00:00:00-04:00</th>\n",
              "      <td>112.209999</td>\n",
              "      <td>121.629013</td>\n",
              "    </tr>\n",
              "    <tr>\n",
              "      <th>2022-10-12 00:00:00-04:00</th>\n",
              "      <td>112.900002</td>\n",
              "      <td>120.735298</td>\n",
              "    </tr>\n",
              "    <tr>\n",
              "      <th>2022-10-13 00:00:00-04:00</th>\n",
              "      <td>112.529999</td>\n",
              "      <td>119.854759</td>\n",
              "    </tr>\n",
              "    <tr>\n",
              "      <th>2022-10-14 00:00:00-04:00</th>\n",
              "      <td>106.900002</td>\n",
              "      <td>119.038414</td>\n",
              "    </tr>\n",
              "  </tbody>\n",
              "</table>\n",
              "<p>543 rows × 2 columns</p>\n",
              "</div>\n",
              "      <button class=\"colab-df-convert\" onclick=\"convertToInteractive('df-f5f92186-bb71-432e-a3c3-608ce6e39985')\"\n",
              "              title=\"Convert this dataframe to an interactive table.\"\n",
              "              style=\"display:none;\">\n",
              "        \n",
              "  <svg xmlns=\"http://www.w3.org/2000/svg\" height=\"24px\"viewBox=\"0 0 24 24\"\n",
              "       width=\"24px\">\n",
              "    <path d=\"M0 0h24v24H0V0z\" fill=\"none\"/>\n",
              "    <path d=\"M18.56 5.44l.94 2.06.94-2.06 2.06-.94-2.06-.94-.94-2.06-.94 2.06-2.06.94zm-11 1L8.5 8.5l.94-2.06 2.06-.94-2.06-.94L8.5 2.5l-.94 2.06-2.06.94zm10 10l.94 2.06.94-2.06 2.06-.94-2.06-.94-.94-2.06-.94 2.06-2.06.94z\"/><path d=\"M17.41 7.96l-1.37-1.37c-.4-.4-.92-.59-1.43-.59-.52 0-1.04.2-1.43.59L10.3 9.45l-7.72 7.72c-.78.78-.78 2.05 0 2.83L4 21.41c.39.39.9.59 1.41.59.51 0 1.02-.2 1.41-.59l7.78-7.78 2.81-2.81c.8-.78.8-2.07 0-2.86zM5.41 20L4 18.59l7.72-7.72 1.47 1.35L5.41 20z\"/>\n",
              "  </svg>\n",
              "      </button>\n",
              "      \n",
              "  <style>\n",
              "    .colab-df-container {\n",
              "      display:flex;\n",
              "      flex-wrap:wrap;\n",
              "      gap: 12px;\n",
              "    }\n",
              "\n",
              "    .colab-df-convert {\n",
              "      background-color: #E8F0FE;\n",
              "      border: none;\n",
              "      border-radius: 50%;\n",
              "      cursor: pointer;\n",
              "      display: none;\n",
              "      fill: #1967D2;\n",
              "      height: 32px;\n",
              "      padding: 0 0 0 0;\n",
              "      width: 32px;\n",
              "    }\n",
              "\n",
              "    .colab-df-convert:hover {\n",
              "      background-color: #E2EBFA;\n",
              "      box-shadow: 0px 1px 2px rgba(60, 64, 67, 0.3), 0px 1px 3px 1px rgba(60, 64, 67, 0.15);\n",
              "      fill: #174EA6;\n",
              "    }\n",
              "\n",
              "    [theme=dark] .colab-df-convert {\n",
              "      background-color: #3B4455;\n",
              "      fill: #D2E3FC;\n",
              "    }\n",
              "\n",
              "    [theme=dark] .colab-df-convert:hover {\n",
              "      background-color: #434B5C;\n",
              "      box-shadow: 0px 1px 3px 1px rgba(0, 0, 0, 0.15);\n",
              "      filter: drop-shadow(0px 1px 2px rgba(0, 0, 0, 0.3));\n",
              "      fill: #FFFFFF;\n",
              "    }\n",
              "  </style>\n",
              "\n",
              "      <script>\n",
              "        const buttonEl =\n",
              "          document.querySelector('#df-f5f92186-bb71-432e-a3c3-608ce6e39985 button.colab-df-convert');\n",
              "        buttonEl.style.display =\n",
              "          google.colab.kernel.accessAllowed ? 'block' : 'none';\n",
              "\n",
              "        async function convertToInteractive(key) {\n",
              "          const element = document.querySelector('#df-f5f92186-bb71-432e-a3c3-608ce6e39985');\n",
              "          const dataTable =\n",
              "            await google.colab.kernel.invokeFunction('convertToInteractive',\n",
              "                                                     [key], {});\n",
              "          if (!dataTable) return;\n",
              "\n",
              "          const docLinkHtml = 'Like what you see? Visit the ' +\n",
              "            '<a target=\"_blank\" href=https://colab.research.google.com/notebooks/data_table.ipynb>data table notebook</a>'\n",
              "            + ' to learn more about interactive tables.';\n",
              "          element.innerHTML = '';\n",
              "          dataTable['output_type'] = 'display_data';\n",
              "          await google.colab.output.renderOutput(dataTable, element);\n",
              "          const docLink = document.createElement('div');\n",
              "          docLink.innerHTML = docLinkHtml;\n",
              "          element.appendChild(docLink);\n",
              "        }\n",
              "      </script>\n",
              "    </div>\n",
              "  </div>\n",
              "  "
            ]
          },
          "metadata": {},
          "execution_count": 21
        }
      ]
    },
    {
      "cell_type": "code",
      "source": [
        "\n",
        "apple_quote = yf.download(tickers, start, end)\n",
        "new_df = apple_quote.filter(['Adj Close'])\n",
        "last_60_days = new_df[-60:].values\n",
        "last_60_days_scaled = scaler.transform(last_60_days)\n",
        "X_test = []\n",
        "X_test.append(last_60_days_scaled)\n",
        "X_test = np.array(X_test)\n",
        "X_test = np.reshape(X_test, (X_test.shape[0], x_test.shape[1], 1))\n",
        "pred_price = model.predict(X_test)\n",
        "pred_price = scaler.inverse_transform(pred_price)\n",
        "print(pred_price)"
      ],
      "metadata": {
        "colab": {
          "base_uri": "https://localhost:8080/"
        },
        "id": "mQ6E7IidmtY7",
        "outputId": "12ef3d95-1d67-4e06-8b8f-07e423996452"
      },
      "execution_count": 22,
      "outputs": [
        {
          "output_type": "stream",
          "name": "stdout",
          "text": [
            "[*********************100%***********************]  1 of 1 completed\n",
            "1/1 [==============================] - 0s 22ms/step\n",
            "[[117.63864]]\n"
          ]
        }
      ]
    },
    {
      "cell_type": "code",
      "source": [
        "tickers1 = ['AMZN']\n",
        "start1 = dt.datetime(2012,1,1)\n",
        "end1 = dt.datetime(2022,6,16)\n",
        "apple_quote2 = yf.download(tickers1, start1, end1)\n",
        "print(apple_quote2['Close'])"
      ],
      "metadata": {
        "colab": {
          "base_uri": "https://localhost:8080/"
        },
        "id": "MDQA0ipanRx6",
        "outputId": "a49ae6cb-da0a-4e1b-e5ea-5740cf3a0e9c"
      },
      "execution_count": 23,
      "outputs": [
        {
          "output_type": "stream",
          "name": "stdout",
          "text": [
            "\r[*********************100%***********************]  1 of 1 completed\n",
            "Date\n",
            "2012-01-03 00:00:00-05:00      8.951500\n",
            "2012-01-04 00:00:00-05:00      8.875500\n",
            "2012-01-05 00:00:00-05:00      8.880500\n",
            "2012-01-06 00:00:00-05:00      9.130500\n",
            "2012-01-09 00:00:00-05:00      8.928000\n",
            "                                ...    \n",
            "2022-06-09 00:00:00-04:00    116.150002\n",
            "2022-06-10 00:00:00-04:00    109.650002\n",
            "2022-06-13 00:00:00-04:00    103.669998\n",
            "2022-06-14 00:00:00-04:00    102.309998\n",
            "2022-06-15 00:00:00-04:00    107.669998\n",
            "Name: Close, Length: 2631, dtype: float64\n"
          ]
        }
      ]
    }
  ]
}