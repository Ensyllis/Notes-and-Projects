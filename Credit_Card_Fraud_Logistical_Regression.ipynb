{
  "nbformat": 4,
  "nbformat_minor": 0,
  "metadata": {
    "colab": {
      "provenance": [],
      "authorship_tag": "ABX9TyMQP3j0TOR9p8bNpeDvsV29",
      "include_colab_link": true
    },
    "kernelspec": {
      "name": "python3",
      "display_name": "Python 3"
    },
    "language_info": {
      "name": "python"
    }
  },
  "cells": [
    {
      "cell_type": "markdown",
      "metadata": {
        "id": "view-in-github",
        "colab_type": "text"
      },
      "source": [
        "<a href=\"https://colab.research.google.com/github/Ensyllis/Notes-and-Projects/blob/main/Credit_Card_Fraud_Logistical_Regression.ipynb\" target=\"_parent\"><img src=\"https://colab.research.google.com/assets/colab-badge.svg\" alt=\"Open In Colab\"/></a>"
      ]
    },
    {
      "cell_type": "markdown",
      "source": [
        "A Logistical Regression is Capable of Identifying the Probability of a Bernoulli Trial Given the Linear Regression Relationship"
      ],
      "metadata": {
        "id": "mEuz6uU140QF"
      }
    },
    {
      "cell_type": "code",
      "execution_count": null,
      "metadata": {
        "id": "-Eo5p5-f23bj"
      },
      "outputs": [],
      "source": [
        "import pandas as pd\n",
        "import numpy as np\n",
        "from sklearn import preprocessing\n",
        "import matplotlib.pyplot as plt \n",
        "plt.rc(\"font\", size=14)\n",
        "from sklearn.linear_model import LogisticRegression\n",
        "from sklearn.model_selection import train_test_split\n",
        "import seaborn as sns\n",
        "sns.set(style=\"white\")\n",
        "sns.set(style=\"whitegrid\", color_codes=True)"
      ]
    },
    {
      "cell_type": "code",
      "source": [
        "from google.colab import files\n",
        "uploaded = files.upload()"
      ],
      "metadata": {
        "colab": {
          "base_uri": "https://localhost:8080/",
          "height": 73
        },
        "id": "ddXmzO_I9Gzm",
        "outputId": "19590b80-e7ea-4894-ce12-8eb0793d4e46"
      },
      "execution_count": null,
      "outputs": [
        {
          "output_type": "display_data",
          "data": {
            "text/plain": [
              "<IPython.core.display.HTML object>"
            ],
            "text/html": [
              "\n",
              "     <input type=\"file\" id=\"files-42b28bd9-7e19-4725-9e5d-5e5358f3a542\" name=\"files[]\" multiple disabled\n",
              "        style=\"border:none\" />\n",
              "     <output id=\"result-42b28bd9-7e19-4725-9e5d-5e5358f3a542\">\n",
              "      Upload widget is only available when the cell has been executed in the\n",
              "      current browser session. Please rerun this cell to enable.\n",
              "      </output>\n",
              "      <script>// Copyright 2017 Google LLC\n",
              "//\n",
              "// Licensed under the Apache License, Version 2.0 (the \"License\");\n",
              "// you may not use this file except in compliance with the License.\n",
              "// You may obtain a copy of the License at\n",
              "//\n",
              "//      http://www.apache.org/licenses/LICENSE-2.0\n",
              "//\n",
              "// Unless required by applicable law or agreed to in writing, software\n",
              "// distributed under the License is distributed on an \"AS IS\" BASIS,\n",
              "// WITHOUT WARRANTIES OR CONDITIONS OF ANY KIND, either express or implied.\n",
              "// See the License for the specific language governing permissions and\n",
              "// limitations under the License.\n",
              "\n",
              "/**\n",
              " * @fileoverview Helpers for google.colab Python module.\n",
              " */\n",
              "(function(scope) {\n",
              "function span(text, styleAttributes = {}) {\n",
              "  const element = document.createElement('span');\n",
              "  element.textContent = text;\n",
              "  for (const key of Object.keys(styleAttributes)) {\n",
              "    element.style[key] = styleAttributes[key];\n",
              "  }\n",
              "  return element;\n",
              "}\n",
              "\n",
              "// Max number of bytes which will be uploaded at a time.\n",
              "const MAX_PAYLOAD_SIZE = 100 * 1024;\n",
              "\n",
              "function _uploadFiles(inputId, outputId) {\n",
              "  const steps = uploadFilesStep(inputId, outputId);\n",
              "  const outputElement = document.getElementById(outputId);\n",
              "  // Cache steps on the outputElement to make it available for the next call\n",
              "  // to uploadFilesContinue from Python.\n",
              "  outputElement.steps = steps;\n",
              "\n",
              "  return _uploadFilesContinue(outputId);\n",
              "}\n",
              "\n",
              "// This is roughly an async generator (not supported in the browser yet),\n",
              "// where there are multiple asynchronous steps and the Python side is going\n",
              "// to poll for completion of each step.\n",
              "// This uses a Promise to block the python side on completion of each step,\n",
              "// then passes the result of the previous step as the input to the next step.\n",
              "function _uploadFilesContinue(outputId) {\n",
              "  const outputElement = document.getElementById(outputId);\n",
              "  const steps = outputElement.steps;\n",
              "\n",
              "  const next = steps.next(outputElement.lastPromiseValue);\n",
              "  return Promise.resolve(next.value.promise).then((value) => {\n",
              "    // Cache the last promise value to make it available to the next\n",
              "    // step of the generator.\n",
              "    outputElement.lastPromiseValue = value;\n",
              "    return next.value.response;\n",
              "  });\n",
              "}\n",
              "\n",
              "/**\n",
              " * Generator function which is called between each async step of the upload\n",
              " * process.\n",
              " * @param {string} inputId Element ID of the input file picker element.\n",
              " * @param {string} outputId Element ID of the output display.\n",
              " * @return {!Iterable<!Object>} Iterable of next steps.\n",
              " */\n",
              "function* uploadFilesStep(inputId, outputId) {\n",
              "  const inputElement = document.getElementById(inputId);\n",
              "  inputElement.disabled = false;\n",
              "\n",
              "  const outputElement = document.getElementById(outputId);\n",
              "  outputElement.innerHTML = '';\n",
              "\n",
              "  const pickedPromise = new Promise((resolve) => {\n",
              "    inputElement.addEventListener('change', (e) => {\n",
              "      resolve(e.target.files);\n",
              "    });\n",
              "  });\n",
              "\n",
              "  const cancel = document.createElement('button');\n",
              "  inputElement.parentElement.appendChild(cancel);\n",
              "  cancel.textContent = 'Cancel upload';\n",
              "  const cancelPromise = new Promise((resolve) => {\n",
              "    cancel.onclick = () => {\n",
              "      resolve(null);\n",
              "    };\n",
              "  });\n",
              "\n",
              "  // Wait for the user to pick the files.\n",
              "  const files = yield {\n",
              "    promise: Promise.race([pickedPromise, cancelPromise]),\n",
              "    response: {\n",
              "      action: 'starting',\n",
              "    }\n",
              "  };\n",
              "\n",
              "  cancel.remove();\n",
              "\n",
              "  // Disable the input element since further picks are not allowed.\n",
              "  inputElement.disabled = true;\n",
              "\n",
              "  if (!files) {\n",
              "    return {\n",
              "      response: {\n",
              "        action: 'complete',\n",
              "      }\n",
              "    };\n",
              "  }\n",
              "\n",
              "  for (const file of files) {\n",
              "    const li = document.createElement('li');\n",
              "    li.append(span(file.name, {fontWeight: 'bold'}));\n",
              "    li.append(span(\n",
              "        `(${file.type || 'n/a'}) - ${file.size} bytes, ` +\n",
              "        `last modified: ${\n",
              "            file.lastModifiedDate ? file.lastModifiedDate.toLocaleDateString() :\n",
              "                                    'n/a'} - `));\n",
              "    const percent = span('0% done');\n",
              "    li.appendChild(percent);\n",
              "\n",
              "    outputElement.appendChild(li);\n",
              "\n",
              "    const fileDataPromise = new Promise((resolve) => {\n",
              "      const reader = new FileReader();\n",
              "      reader.onload = (e) => {\n",
              "        resolve(e.target.result);\n",
              "      };\n",
              "      reader.readAsArrayBuffer(file);\n",
              "    });\n",
              "    // Wait for the data to be ready.\n",
              "    let fileData = yield {\n",
              "      promise: fileDataPromise,\n",
              "      response: {\n",
              "        action: 'continue',\n",
              "      }\n",
              "    };\n",
              "\n",
              "    // Use a chunked sending to avoid message size limits. See b/62115660.\n",
              "    let position = 0;\n",
              "    do {\n",
              "      const length = Math.min(fileData.byteLength - position, MAX_PAYLOAD_SIZE);\n",
              "      const chunk = new Uint8Array(fileData, position, length);\n",
              "      position += length;\n",
              "\n",
              "      const base64 = btoa(String.fromCharCode.apply(null, chunk));\n",
              "      yield {\n",
              "        response: {\n",
              "          action: 'append',\n",
              "          file: file.name,\n",
              "          data: base64,\n",
              "        },\n",
              "      };\n",
              "\n",
              "      let percentDone = fileData.byteLength === 0 ?\n",
              "          100 :\n",
              "          Math.round((position / fileData.byteLength) * 100);\n",
              "      percent.textContent = `${percentDone}% done`;\n",
              "\n",
              "    } while (position < fileData.byteLength);\n",
              "  }\n",
              "\n",
              "  // All done.\n",
              "  yield {\n",
              "    response: {\n",
              "      action: 'complete',\n",
              "    }\n",
              "  };\n",
              "}\n",
              "\n",
              "scope.google = scope.google || {};\n",
              "scope.google.colab = scope.google.colab || {};\n",
              "scope.google.colab._files = {\n",
              "  _uploadFiles,\n",
              "  _uploadFilesContinue,\n",
              "};\n",
              "})(self);\n",
              "</script> "
            ]
          },
          "metadata": {}
        },
        {
          "output_type": "stream",
          "name": "stdout",
          "text": [
            "Saving creditcard.csv to creditcard.csv\n"
          ]
        }
      ]
    },
    {
      "cell_type": "code",
      "source": [
        "data = pd.read_csv('creditcard.csv')"
      ],
      "metadata": {
        "id": "r8OBFkJ9wogY"
      },
      "execution_count": null,
      "outputs": []
    },
    {
      "cell_type": "markdown",
      "source": [
        "### Desired Targets\n",
        "\n",
        "- Predictive Question: What is the Probability that a Client Subscribed to the Term Deposit? (1 = \"Yes\", 0 = \"No\")\n",
        "- Variable y ⊂ {1,0}"
      ],
      "metadata": {
        "id": "drauSmvtAc6W"
      }
    },
    {
      "cell_type": "code",
      "source": [
        "count_no_sub = len(data[data['Class']==0])\n",
        "count_sub = len(data[data['Class']==1])\n",
        "pct_of_no_sub = count_no_sub/(count_no_sub+count_sub)\n",
        "print(\"percentage of no Fraud is\", pct_of_no_sub*100)\n",
        "pct_of_sub = count_sub/(count_no_sub+count_sub)\n",
        "print(\"percentage of Fraud\", pct_of_sub*100)\n"
      ],
      "metadata": {
        "colab": {
          "base_uri": "https://localhost:8080/"
        },
        "id": "qzW8aH1JCiId",
        "outputId": "a9ff6ea2-2243-4ebd-892a-82c5c135c4c6"
      },
      "execution_count": null,
      "outputs": [
        {
          "output_type": "stream",
          "name": "stdout",
          "text": [
            "percentage of no Fraud is 99.82725143693798\n",
            "percentage of Fraud 0.1727485630620034\n"
          ]
        }
      ]
    },
    {
      "cell_type": "markdown",
      "source": [
        "Frequency of Purchase of the Deposit Depends on the Job Title, The Following Indicates the Prediction of Purchases by Job Titles"
      ],
      "metadata": {
        "id": "J4v4RIJtF_qR"
      }
    },
    {
      "cell_type": "markdown",
      "source": [
        "- We're just Visualizing the Data at this Point"
      ],
      "metadata": {
        "id": "E_tZfk9aIRJA"
      }
    },
    {
      "cell_type": "markdown",
      "source": [
        "We're Creating a Dummy Variable Now - This Let's Us Predict if a Customer will be a Purchasing the Product or Not"
      ],
      "metadata": {
        "id": "BLXghz50JNiH"
      }
    },
    {
      "cell_type": "code",
      "source": [
        "cat_vars=[]\n",
        "for var in cat_vars:\n",
        "    cat_list='var'+'_'+var\n",
        "    cat_list = pd.get_dummies(data[var], prefix=var)\n",
        "    data1=data.join(cat_list)\n",
        "    data=data1\n",
        "cat_vars=[]\n",
        "data_vars=data.columns.values.tolist()\n",
        "to_keep=[i for i in data_vars if i not in cat_vars]"
      ],
      "metadata": {
        "id": "zTn5VrxWJNTd"
      },
      "execution_count": null,
      "outputs": []
    },
    {
      "cell_type": "code",
      "source": [
        "data_final=data[to_keep]\n",
        "data_final.columns.values"
      ],
      "metadata": {
        "id": "jfv_har6JWt2"
      },
      "execution_count": null,
      "outputs": []
    },
    {
      "cell_type": "markdown",
      "source": [
        "- Smote Technique\n",
        "  - Synthetic Minority Oversampling Technique\n",
        "  1. Works by creating synthetic samples from the minor class (no-subscription) instead of creating copies.\n",
        "  2. Randomly choosing one of the k-nearest neighbors and using it to create a similar, but randomly tweaked, new observations"
      ],
      "metadata": {
        "id": "k6DktA23JdUx"
      }
    },
    {
      "cell_type": "code",
      "source": [
        "X = data_final.loc[:, data_final.columns != 'Class']\n",
        "y = data_final.loc[:, data_final.columns == 'Class']\n",
        "from imblearn.over_sampling import SMOTE\n",
        "os = SMOTE(random_state=0)\n",
        "X_train, X_test, y_train, y_test = train_test_split(X, y, test_size=0.3, random_state=0)\n",
        "columns = X_train.columns\n",
        "os_data_X,os_data_y=os.fit_resample(X_train, y_train)\n",
        "os_data_X = pd.DataFrame(data=os_data_X,columns=columns )\n",
        "os_data_y= pd.DataFrame(data=os_data_y,columns=['Class'])\n",
        "# we can Check the numbers of our data\n",
        "print(\"length of oversampled data is \",len(os_data_X))\n",
        "print(\"Number of no fraud in oversampled data\",len(os_data_y[os_data_y['Class']==0]))\n",
        "print(\"Number of fraud\",len(os_data_y[os_data_y['Class']==1]))\n",
        "print(\"Proportion of no fraud data in oversampled data is \",len(os_data_y[os_data_y['Class']==0])/len(os_data_X))\n",
        "print(\"Proportion of fraud data in oversampled data is \",len(os_data_y[os_data_y['Class']==1])/len(os_data_X))"
      ],
      "metadata": {
        "colab": {
          "base_uri": "https://localhost:8080/"
        },
        "id": "Daf8MkhUJw7M",
        "outputId": "1e7054b9-0cc9-45b9-ddf9-5c1476a763e9"
      },
      "execution_count": null,
      "outputs": [
        {
          "output_type": "stream",
          "name": "stdout",
          "text": [
            "length of oversampled data is  398038\n",
            "Number of no fraud in oversampled data 199019\n",
            "Number of fraud 199019\n",
            "Proportion of no fraud data in oversampled data is  0.5\n",
            "Proportion of fraud data in oversampled data is  0.5\n"
          ]
        }
      ]
    },
    {
      "cell_type": "code",
      "source": [
        "data_final_vars=data_final.columns.values.tolist()\n",
        "y=['Class']\n",
        "X=[i for i in data_final_vars if i not in y]\n",
        "from sklearn.feature_selection import RFE\n",
        "from sklearn.linear_model import LogisticRegression\n",
        "logreg = LogisticRegression()\n",
        "\n",
        "rfe = RFE(logreg, n_features_to_select=20)\n",
        "rfe = rfe.fit(os_data_X, os_data_y.values.ravel())\n",
        "print(rfe.support_)\n",
        "print(rfe.ranking_)"
      ],
      "metadata": {
        "colab": {
          "base_uri": "https://localhost:8080/"
        },
        "id": "pjLff4E5J8Av",
        "outputId": "f6d6b46d-703e-4816-f728-0e53861443e4"
      },
      "execution_count": null,
      "outputs": [
        {
          "output_type": "stream",
          "name": "stdout",
          "text": [
            "[False  True  True False  True  True False False  True  True  True  True\n",
            "  True  True  True False  True  True  True  True False  True  True False\n",
            " False  True False  True  True False]\n",
            "[10  1  1  2  1  1  3  9  1  1  1  1  1  1  1  7  1  1  1  1  4  1  1  5\n",
            "  8  1  6  1  1 11]\n"
          ]
        }
      ]
    },
    {
      "cell_type": "code",
      "source": [
        "cols=['V1','V2','V3','V4','V5','V6','V7','V8','V9','V10','V11','V12','V13','V14','V15','V16','V17','V18','V19','V20','V21','V22','V23','V24','V25','V26','V27','V28','Amount'] \n",
        "X=os_data_X[cols]\n",
        "y=os_data_y['Class']"
      ],
      "metadata": {
        "id": "FCtp7tsxZYd2"
      },
      "execution_count": null,
      "outputs": []
    },
    {
      "cell_type": "markdown",
      "source": [
        "Right Here We're Gaining the P Values of Each of the Variables"
      ],
      "metadata": {
        "id": "CwYfmwlwqHtH"
      }
    },
    {
      "cell_type": "code",
      "source": [
        "import statsmodels.api as sm\n",
        "logit_model=sm.Logit(y,X)\n",
        "result=logit_model.fit()\n",
        "print(result.summary2())"
      ],
      "metadata": {
        "colab": {
          "base_uri": "https://localhost:8080/"
        },
        "id": "7mTHfjkBZcQj",
        "outputId": "f037ece1-89cf-4b6a-9d80-6bea334c2e48"
      },
      "execution_count": null,
      "outputs": [
        {
          "output_type": "stream",
          "name": "stdout",
          "text": [
            "Optimization terminated successfully.\n",
            "         Current function value: 0.129675\n",
            "         Iterations 16\n",
            "                          Results: Logit\n",
            "==================================================================\n",
            "Model:              Logit            Pseudo R-squared: 0.813      \n",
            "Dependent Variable: Class            AIC:              103288.9731\n",
            "Date:               2022-10-18 03:58 BIC:              103604.9079\n",
            "No. Observations:   398038           Log-Likelihood:   -51615.    \n",
            "Df Model:           28               LL-Null:          -2.7590e+05\n",
            "Df Residuals:       398009           LLR p-value:      0.0000     \n",
            "Converged:          1.0000           Scale:            1.0000     \n",
            "No. Iterations:     16.0000                                       \n",
            "--------------------------------------------------------------------\n",
            "          Coef.    Std.Err.       z       P>|z|     [0.025    0.975]\n",
            "--------------------------------------------------------------------\n",
            "V1       -0.9430     0.0085   -111.3158   0.0000   -0.9596   -0.9264\n",
            "V2       -2.5675     0.0204   -125.8848   0.0000   -2.6075   -2.5276\n",
            "V3       -1.8991     0.0139   -136.4019   0.0000   -1.9264   -1.8719\n",
            "V4        1.5357     0.0101    152.5534   0.0000    1.5160    1.5555\n",
            "V5       -3.0439     0.0170   -179.2791   0.0000   -3.0771   -3.0106\n",
            "V6        1.3397     0.0117    114.6673   0.0000    1.3168    1.3626\n",
            "V7        2.0592     0.0251     82.0144   0.0000    2.0100    2.1085\n",
            "V8       -0.9255     0.0125    -74.1031   0.0000   -0.9499   -0.9010\n",
            "V9       -1.1240     0.0133    -84.5046   0.0000   -1.1501   -1.0980\n",
            "V10      -2.5259     0.0227   -111.3729   0.0000   -2.5703   -2.4814\n",
            "V11       1.2842     0.0150     85.3349   0.0000    1.2547    1.3137\n",
            "V12      -2.3060     0.0246    -93.7276   0.0000   -2.3542   -2.2578\n",
            "V13      -0.1259     0.0082    -15.2992   0.0000   -0.1420   -0.1098\n",
            "V14      -2.2288     0.0250    -89.0488   0.0000   -2.2779   -2.1798\n",
            "V15      -0.1004     0.0091    -10.9865   0.0000   -0.1183   -0.0825\n",
            "V16      -1.6641     0.0237    -70.0822   0.0000   -1.7107   -1.6176\n",
            "V17      -2.8787     0.0395    -72.8857   0.0000   -2.9561   -2.8013\n",
            "V18      -0.6843     0.0177    -38.7591   0.0000   -0.7189   -0.6497\n",
            "V19      -0.3349     0.0116    -28.9960   0.0000   -0.3576   -0.3123\n",
            "V20       3.7365     0.0261    143.3894   0.0000    3.6855    3.7876\n",
            "V21       1.4567     0.0135    108.2255   0.0000    1.4304    1.4831\n",
            "V22      -0.8019     0.0133    -60.5183   0.0000   -0.8279   -0.7760\n",
            "V23      -2.7451     0.0287    -95.7437   0.0000   -2.8013   -2.6889\n",
            "V24       0.1304     0.0153      8.5269   0.0000    0.1004    0.1604\n",
            "V25      -1.0767     0.0192    -55.9691   0.0000   -1.1144   -1.0390\n",
            "V26      -0.1714     0.0188     -9.1052   0.0000   -0.2082   -0.1345\n",
            "V27       0.8976     0.0349     25.7096   0.0000    0.8292    0.9660\n",
            "V28       1.4129     0.0396     35.6773   0.0000    1.3353    1.4905\n",
            "Amount   -0.0352     0.0002   -227.9136   0.0000   -0.0355   -0.0349\n",
            "==================================================================\n",
            "\n"
          ]
        }
      ]
    },
    {
      "cell_type": "code",
      "source": [
        "from sklearn import metrics"
      ],
      "metadata": {
        "id": "gXe2QF46m7If"
      },
      "execution_count": null,
      "outputs": []
    },
    {
      "cell_type": "code",
      "source": [
        "X_train, X_test, y_train, y_test = train_test_split(X, y, test_size=0.3, random_state=0)\n",
        "logreg = LogisticRegression(solver='lbfgs', max_iter=1000)\n",
        "logreg.fit(X_train, y_train)\n",
        "print(\"model score: %.3f\" % logreg.score(X_test, y_test))"
      ],
      "metadata": {
        "colab": {
          "base_uri": "https://localhost:8080/"
        },
        "id": "1zHFeNfUZtoj",
        "outputId": "42940f02-20a8-403b-b44a-25731dd99962"
      },
      "execution_count": null,
      "outputs": [
        {
          "output_type": "stream",
          "name": "stdout",
          "text": [
            "model score: 0.983\n"
          ]
        }
      ]
    },
    {
      "cell_type": "code",
      "source": [
        "y_pred = logreg.predict(X_test)\n",
        "print('Accuracy of logistic regression classifier on test set: {:.2f}'.format(logreg.score(X_test, y_test)))"
      ],
      "metadata": {
        "colab": {
          "base_uri": "https://localhost:8080/"
        },
        "id": "TlJxx5b5nIGV",
        "outputId": "550dc72c-9275-4862-895b-7892d9932782"
      },
      "execution_count": null,
      "outputs": [
        {
          "output_type": "stream",
          "name": "stdout",
          "text": [
            "Accuracy of logistic regression classifier on test set: 0.98\n"
          ]
        }
      ]
    },
    {
      "cell_type": "code",
      "source": [
        "from sklearn.metrics import confusion_matrix\n",
        "confusion_matrix = confusion_matrix(y_test, y_pred)\n",
        "print(confusion_matrix)"
      ],
      "metadata": {
        "colab": {
          "base_uri": "https://localhost:8080/"
        },
        "id": "_DDausN2no0_",
        "outputId": "89c714ba-012d-4ad0-d91b-30220c64e586"
      },
      "execution_count": null,
      "outputs": [
        {
          "output_type": "stream",
          "name": "stdout",
          "text": [
            "[[59513   538]\n",
            " [ 1526 57835]]\n"
          ]
        }
      ]
    },
    {
      "cell_type": "code",
      "source": [
        "from sklearn.metrics import classification_report\n",
        "print(classification_report(y_test, y_pred))"
      ],
      "metadata": {
        "colab": {
          "base_uri": "https://localhost:8080/"
        },
        "id": "1iwrVm_VnuOx",
        "outputId": "0b75abf1-c66d-4d05-821a-ac0818257e28"
      },
      "execution_count": null,
      "outputs": [
        {
          "output_type": "stream",
          "name": "stdout",
          "text": [
            "              precision    recall  f1-score   support\n",
            "\n",
            "           0       0.97      0.99      0.98     60051\n",
            "           1       0.99      0.97      0.98     59361\n",
            "\n",
            "    accuracy                           0.98    119412\n",
            "   macro avg       0.98      0.98      0.98    119412\n",
            "weighted avg       0.98      0.98      0.98    119412\n",
            "\n"
          ]
        }
      ]
    },
    {
      "cell_type": "code",
      "source": [
        "from sklearn.metrics import roc_auc_score\n",
        "from sklearn.metrics import roc_curve\n",
        "logit_roc_auc = roc_auc_score(y_test, logreg.predict(X_test))\n",
        "fpr, tpr, threshold = roc_curve(y_test, logreg.predict_proba(X_test)[:,1])\n",
        "plt.figure()\n",
        "plt.plot(fpr, tpr, label ='Logistic Regression (area = %0.2f' %logit_roc_auc)\n",
        "plt.plot([0,1],[0,1],'r--')\n",
        "plt.xlim([0.0,1.1])\n",
        "plt.ylim([0.0,1.0])\n",
        "plt.xlabel('False Positive Rate')\n",
        "plt.ylabel('True Positive Rate')\n",
        "plt.title('Reciever Operating Characteristics')\n",
        "plt.legend(loc='lower right')\n",
        "plt.savefig('Loc_ROC')\n",
        "plt.show()"
      ],
      "metadata": {
        "colab": {
          "base_uri": "https://localhost:8080/",
          "height": 301
        },
        "id": "c9Ea7EJHn3yj",
        "outputId": "da1147ef-f973-4de7-b31d-7d3c4f9823b0"
      },
      "execution_count": null,
      "outputs": [
        {
          "output_type": "display_data",
          "data": {
            "text/plain": [
              "<Figure size 432x288 with 1 Axes>"
            ],
            "image/png": "[encoded data removed]"
          },
          "metadata": {}
        }
      ]
    }
  ]
}